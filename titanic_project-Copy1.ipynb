{
 "cells": [
  {
   "cell_type": "markdown",
   "metadata": {},
   "source": [
    "Herkese merhaba. Bu proje, veri analizi adına öğrendiklerimi ilk defa uyguladığım çalışmam. Çalışmamı gerçekleştirirken Udacity'den takip ettiğim 'Intro to Data Analysis' dersine müteakip, bu derste öğrendiklerimi farklı kaynaklardan edindiğim bilgi ve yöntemlerle destekledim. Projemin öznesi olan veri setini Kaggle'dan edindiğim, 1912 yılında çıktığı ilk seferinde bir buzdağına çarparak batan Titanic gemisi yolcularına ait veriler oluşturmaktadır. Aynı zamanda veri analizine yeni başlayanlar için oldukça popüler olan bu veri seti, aşağıda da görüleceği üzere 891 yolcuya ait yolcu no, hayatta kalma/kalmama, yolculuk sınıfı, isim, cinsiyet, yaş, eş/kardeş sayısı, ebeveyn/çocuk sayısı, bilet kodu, bilet ücreti, kabin no ve biniş limanlarına ait bilgileri barındıran 12 sütundan oluşmaktadır.\n",
    "Çalışmamın içeriğinde yer alan hücrelerde # ile başlayan yorum/bilgi satırlarını, yabancı blog ziyaretçilerinin de yararlanabilmesi için İngilizce dilinde yazdım. Projem temel düzeyde bir veri analizi olup tanımlayıcı istatistiğin uygulandığı bir örnektir. \n"
   ]
  },
  {
   "cell_type": "markdown",
   "metadata": {},
   "source": [
    "Analize başlamadan öncelikle veri setini inceleyerek yanıtını aradığım soruları belirledim. Buna göre aklıma gelen ilk sorular yolcuların cinsiyet, yaş ve yolcu sınıflarına göre dağılımları ve bu sınıflandırmalara göre hayatta kalma oranlarıydı. Bu çalışmamdaki öncelikli amacım öğrendiklerimi pratiğe dönüştürmek olduğu için analizde ilerledikçe görselleştirmelerle birlikte soru soruyu doğurdu, fakat burada içeriği uzatmamak adına elde ettiğim bulguları sınırlı tuttum. "
   ]
  },
  {
   "cell_type": "markdown",
   "metadata": {},
   "source": [
    "Projemin kodlama dili Python 2'dir. Veri manipülasyonu ('data manipulation') için pandas, veri görselleştirme ('data visualization') için matplotlib ve seaborn kütüphanelerini kullandım. Yer yer de sonucu elde etmede alternatif kod olarak  numpy kütüphanesi kullandım. "
   ]
  },
  {
   "cell_type": "markdown",
   "metadata": {},
   "source": [
    "Veri setini bu linkten indirebilirsiniz. Veri setine ait bilgilendirme notu:\n",
    "Değişken\tTanımı\t           Anahtar\n",
    "Survival\tHayatta kalma\t   0 = Hayır, 1 = Evet\n",
    "Pclass\t    Bilet sınıfı\t   1 = Birinci, 2 = İkinci, 3 = Üçüncü sınıf\n",
    "Sex\t        Cinsiyet\t\n",
    "Age\t        Yaş\t   \n",
    "sibsp\t    # yolcunun gemide bulunan kardeş / eş sayısı\t\n",
    "parch\t    # yolcunun gemide bulunan ebeveyn / çocuğu sayısı \t\n",
    "ticket\t    Bilet numarası\t\n",
    "fare\t    Bilet ücreti\t\n",
    "cabin\t    Kamara numarası\t\n",
    "embarked\tGemiye biniş limanı\tC = Cherbourg, Q = Queenstown, S = Southampton"
   ]
  },
  {
   "cell_type": "markdown",
   "metadata": {},
   "source": [
    "İlk olarak ilgili kütüphanelerimizi çağırıyoruz ve veri setimizi okutuyoruz. (Programlama jargonuna hakim değilim, hatam olursa şimdiden affola :=) .)"
   ]
  },
  {
   "cell_type": "code",
   "execution_count": 1,
   "metadata": {
    "collapsed": true
   },
   "outputs": [],
   "source": [
    "import numpy as np\n",
    "import pandas as pd\n",
    "import matplotlib.pyplot as plt\n",
    "import seaborn as sns\n",
    "\n",
    "filename = '/home/tuna/PycharmProjects/titanic/titanic_data.csv'\n",
    "\n",
    "passenger_df = pd.read_csv(filename)"
   ]
  },
  {
   "cell_type": "markdown",
   "metadata": {},
   "source": [
    "Veri setimize ait genel sayıları görüntülüyoruz. Buna göre 12 sütundan ve 891 satırdan oluşmakta; yaş(age), kabin no(cabin) ve gemiye biniş limanı(embarked) sütunları dışında eksik satıra sahip sütun yok. "
   ]
  },
  {
   "cell_type": "code",
   "execution_count": 2,
   "metadata": {
    "collapsed": false
   },
   "outputs": [
    {
     "name": "stdout",
     "output_type": "stream",
     "text": [
      "<class 'pandas.core.frame.DataFrame'>\n",
      "RangeIndex: 891 entries, 0 to 890\n",
      "Data columns (total 12 columns):\n",
      "PassengerId    891 non-null int64\n",
      "Survived       891 non-null int64\n",
      "Pclass         891 non-null int64\n",
      "Name           891 non-null object\n",
      "Sex            891 non-null object\n",
      "Age            714 non-null float64\n",
      "SibSp          891 non-null int64\n",
      "Parch          891 non-null int64\n",
      "Ticket         891 non-null object\n",
      "Fare           891 non-null float64\n",
      "Cabin          204 non-null object\n",
      "Embarked       889 non-null object\n",
      "dtypes: float64(2), int64(5), object(5)\n",
      "memory usage: 66.2+ KB\n"
     ]
    }
   ],
   "source": [
    "passenger_df.info()"
   ]
  },
  {
   "cell_type": "markdown",
   "metadata": {},
   "source": [
    "Veri setinin ilk beş satırı"
   ]
  },
  {
   "cell_type": "code",
   "execution_count": 2,
   "metadata": {
    "collapsed": false
   },
   "outputs": [
    {
     "data": {
      "text/html": [
       "<div>\n",
       "<table border=\"1\" class=\"dataframe\">\n",
       "  <thead>\n",
       "    <tr style=\"text-align: right;\">\n",
       "      <th></th>\n",
       "      <th>PassengerId</th>\n",
       "      <th>Survived</th>\n",
       "      <th>Pclass</th>\n",
       "      <th>Name</th>\n",
       "      <th>Sex</th>\n",
       "      <th>Age</th>\n",
       "      <th>SibSp</th>\n",
       "      <th>Parch</th>\n",
       "      <th>Ticket</th>\n",
       "      <th>Fare</th>\n",
       "      <th>Cabin</th>\n",
       "      <th>Embarked</th>\n",
       "    </tr>\n",
       "  </thead>\n",
       "  <tbody>\n",
       "    <tr>\n",
       "      <th>0</th>\n",
       "      <td>1</td>\n",
       "      <td>0</td>\n",
       "      <td>3</td>\n",
       "      <td>Braund, Mr. Owen Harris</td>\n",
       "      <td>male</td>\n",
       "      <td>22.0</td>\n",
       "      <td>1</td>\n",
       "      <td>0</td>\n",
       "      <td>A/5 21171</td>\n",
       "      <td>7.2500</td>\n",
       "      <td>NaN</td>\n",
       "      <td>S</td>\n",
       "    </tr>\n",
       "    <tr>\n",
       "      <th>1</th>\n",
       "      <td>2</td>\n",
       "      <td>1</td>\n",
       "      <td>1</td>\n",
       "      <td>Cumings, Mrs. John Bradley (Florence Briggs Th...</td>\n",
       "      <td>female</td>\n",
       "      <td>38.0</td>\n",
       "      <td>1</td>\n",
       "      <td>0</td>\n",
       "      <td>PC 17599</td>\n",
       "      <td>71.2833</td>\n",
       "      <td>C85</td>\n",
       "      <td>C</td>\n",
       "    </tr>\n",
       "    <tr>\n",
       "      <th>2</th>\n",
       "      <td>3</td>\n",
       "      <td>1</td>\n",
       "      <td>3</td>\n",
       "      <td>Heikkinen, Miss. Laina</td>\n",
       "      <td>female</td>\n",
       "      <td>26.0</td>\n",
       "      <td>0</td>\n",
       "      <td>0</td>\n",
       "      <td>STON/O2. 3101282</td>\n",
       "      <td>7.9250</td>\n",
       "      <td>NaN</td>\n",
       "      <td>S</td>\n",
       "    </tr>\n",
       "    <tr>\n",
       "      <th>3</th>\n",
       "      <td>4</td>\n",
       "      <td>1</td>\n",
       "      <td>1</td>\n",
       "      <td>Futrelle, Mrs. Jacques Heath (Lily May Peel)</td>\n",
       "      <td>female</td>\n",
       "      <td>35.0</td>\n",
       "      <td>1</td>\n",
       "      <td>0</td>\n",
       "      <td>113803</td>\n",
       "      <td>53.1000</td>\n",
       "      <td>C123</td>\n",
       "      <td>S</td>\n",
       "    </tr>\n",
       "    <tr>\n",
       "      <th>4</th>\n",
       "      <td>5</td>\n",
       "      <td>0</td>\n",
       "      <td>3</td>\n",
       "      <td>Allen, Mr. William Henry</td>\n",
       "      <td>male</td>\n",
       "      <td>35.0</td>\n",
       "      <td>0</td>\n",
       "      <td>0</td>\n",
       "      <td>373450</td>\n",
       "      <td>8.0500</td>\n",
       "      <td>NaN</td>\n",
       "      <td>S</td>\n",
       "    </tr>\n",
       "  </tbody>\n",
       "</table>\n",
       "</div>"
      ],
      "text/plain": [
       "   PassengerId  Survived  Pclass  \\\n",
       "0            1         0       3   \n",
       "1            2         1       1   \n",
       "2            3         1       3   \n",
       "3            4         1       1   \n",
       "4            5         0       3   \n",
       "\n",
       "                                                Name     Sex   Age  SibSp  \\\n",
       "0                            Braund, Mr. Owen Harris    male  22.0      1   \n",
       "1  Cumings, Mrs. John Bradley (Florence Briggs Th...  female  38.0      1   \n",
       "2                             Heikkinen, Miss. Laina  female  26.0      0   \n",
       "3       Futrelle, Mrs. Jacques Heath (Lily May Peel)  female  35.0      1   \n",
       "4                           Allen, Mr. William Henry    male  35.0      0   \n",
       "\n",
       "   Parch            Ticket     Fare Cabin Embarked  \n",
       "0      0         A/5 21171   7.2500   NaN        S  \n",
       "1      0          PC 17599  71.2833   C85        C  \n",
       "2      0  STON/O2. 3101282   7.9250   NaN        S  \n",
       "3      0            113803  53.1000  C123        S  \n",
       "4      0            373450   8.0500   NaN        S  "
      ]
     },
     "execution_count": 2,
     "metadata": {},
     "output_type": "execute_result"
    }
   ],
   "source": [
    "passenger_df.head()"
   ]
  },
  {
   "cell_type": "markdown",
   "metadata": {},
   "source": [
    "Veri setine ait tanımlayıcı istatistik tablosu. Tabloda yer alan anlamlı kısımları yorumlarsak;\n",
    "yolcuların %38'i hayatta kalmıştır. Yolcuların yaş ortalaması ondalıklı değerle ifade edersek 29,6'dır. En yaşlı yolcunun yaşı 80 iken, en genç yolcu 0.42 ile ifade edildiğine göre 5 aylık bir bebektir. Yolcuların ödedikleri bilet fiyatı ortalama 32,2 birimdir(dolar varsayalım). Bir bilet için ödenen en yüksek değer 512'dir. Yolcular arasında en fazla kardeş/eş sayısına sahip yolcu için rakam 8 iken, en fazla ebeveyn/çocuğa sahip için rakam 6'dır."
   ]
  },
  {
   "cell_type": "code",
   "execution_count": 4,
   "metadata": {
    "collapsed": false
   },
   "outputs": [
    {
     "data": {
      "text/html": [
       "<div>\n",
       "<table border=\"1\" class=\"dataframe\">\n",
       "  <thead>\n",
       "    <tr style=\"text-align: right;\">\n",
       "      <th></th>\n",
       "      <th>PassengerId</th>\n",
       "      <th>Survived</th>\n",
       "      <th>Pclass</th>\n",
       "      <th>Age</th>\n",
       "      <th>SibSp</th>\n",
       "      <th>Parch</th>\n",
       "      <th>Fare</th>\n",
       "    </tr>\n",
       "  </thead>\n",
       "  <tbody>\n",
       "    <tr>\n",
       "      <th>count</th>\n",
       "      <td>891.000000</td>\n",
       "      <td>891.000000</td>\n",
       "      <td>891.000000</td>\n",
       "      <td>714.000000</td>\n",
       "      <td>891.000000</td>\n",
       "      <td>891.000000</td>\n",
       "      <td>891.000000</td>\n",
       "    </tr>\n",
       "    <tr>\n",
       "      <th>mean</th>\n",
       "      <td>446.000000</td>\n",
       "      <td>0.383838</td>\n",
       "      <td>2.308642</td>\n",
       "      <td>29.699118</td>\n",
       "      <td>0.523008</td>\n",
       "      <td>0.381594</td>\n",
       "      <td>32.204208</td>\n",
       "    </tr>\n",
       "    <tr>\n",
       "      <th>std</th>\n",
       "      <td>257.353842</td>\n",
       "      <td>0.486592</td>\n",
       "      <td>0.836071</td>\n",
       "      <td>14.526497</td>\n",
       "      <td>1.102743</td>\n",
       "      <td>0.806057</td>\n",
       "      <td>49.693429</td>\n",
       "    </tr>\n",
       "    <tr>\n",
       "      <th>min</th>\n",
       "      <td>1.000000</td>\n",
       "      <td>0.000000</td>\n",
       "      <td>1.000000</td>\n",
       "      <td>0.420000</td>\n",
       "      <td>0.000000</td>\n",
       "      <td>0.000000</td>\n",
       "      <td>0.000000</td>\n",
       "    </tr>\n",
       "    <tr>\n",
       "      <th>25%</th>\n",
       "      <td>223.500000</td>\n",
       "      <td>0.000000</td>\n",
       "      <td>2.000000</td>\n",
       "      <td>20.125000</td>\n",
       "      <td>0.000000</td>\n",
       "      <td>0.000000</td>\n",
       "      <td>7.910400</td>\n",
       "    </tr>\n",
       "    <tr>\n",
       "      <th>50%</th>\n",
       "      <td>446.000000</td>\n",
       "      <td>0.000000</td>\n",
       "      <td>3.000000</td>\n",
       "      <td>28.000000</td>\n",
       "      <td>0.000000</td>\n",
       "      <td>0.000000</td>\n",
       "      <td>14.454200</td>\n",
       "    </tr>\n",
       "    <tr>\n",
       "      <th>75%</th>\n",
       "      <td>668.500000</td>\n",
       "      <td>1.000000</td>\n",
       "      <td>3.000000</td>\n",
       "      <td>38.000000</td>\n",
       "      <td>1.000000</td>\n",
       "      <td>0.000000</td>\n",
       "      <td>31.000000</td>\n",
       "    </tr>\n",
       "    <tr>\n",
       "      <th>max</th>\n",
       "      <td>891.000000</td>\n",
       "      <td>1.000000</td>\n",
       "      <td>3.000000</td>\n",
       "      <td>80.000000</td>\n",
       "      <td>8.000000</td>\n",
       "      <td>6.000000</td>\n",
       "      <td>512.329200</td>\n",
       "    </tr>\n",
       "  </tbody>\n",
       "</table>\n",
       "</div>"
      ],
      "text/plain": [
       "       PassengerId    Survived      Pclass         Age       SibSp  \\\n",
       "count   891.000000  891.000000  891.000000  714.000000  891.000000   \n",
       "mean    446.000000    0.383838    2.308642   29.699118    0.523008   \n",
       "std     257.353842    0.486592    0.836071   14.526497    1.102743   \n",
       "min       1.000000    0.000000    1.000000    0.420000    0.000000   \n",
       "25%     223.500000    0.000000    2.000000   20.125000    0.000000   \n",
       "50%     446.000000    0.000000    3.000000   28.000000    0.000000   \n",
       "75%     668.500000    1.000000    3.000000   38.000000    1.000000   \n",
       "max     891.000000    1.000000    3.000000   80.000000    8.000000   \n",
       "\n",
       "            Parch        Fare  \n",
       "count  891.000000  891.000000  \n",
       "mean     0.381594   32.204208  \n",
       "std      0.806057   49.693429  \n",
       "min      0.000000    0.000000  \n",
       "25%      0.000000    7.910400  \n",
       "50%      0.000000   14.454200  \n",
       "75%      0.000000   31.000000  \n",
       "max      6.000000  512.329200  "
      ]
     },
     "execution_count": 4,
     "metadata": {},
     "output_type": "execute_result"
    }
   ],
   "source": [
    "passenger_df.describe()"
   ]
  },
  {
   "cell_type": "markdown",
   "metadata": {},
   "source": [
    "Veri setinde analize tabi tutmayacağımız / analiz için gereksiz sütunların çıkarılması. \n",
    "Yolcu ID no, isim, kamara no ve bilet kodu sütunlarını çıkardım."
   ]
  },
  {
   "cell_type": "code",
   "execution_count": 4,
   "metadata": {
    "collapsed": false
   },
   "outputs": [],
   "source": [
    "# drop unnecessary columns, these columns won't be useful in analysis and prediction\n",
    "passenger_df = passenger_df.drop(['PassengerId','Name','Cabin','Ticket'], axis=1)"
   ]
  },
  {
   "cell_type": "markdown",
   "metadata": {},
   "source": [
    "Belirtilen sütunların çıkarılması sonrasında veri setinin ilk beş satırının görünümü"
   ]
  },
  {
   "cell_type": "code",
   "execution_count": 5,
   "metadata": {
    "collapsed": false
   },
   "outputs": [
    {
     "data": {
      "text/html": [
       "<div>\n",
       "<table border=\"1\" class=\"dataframe\">\n",
       "  <thead>\n",
       "    <tr style=\"text-align: right;\">\n",
       "      <th></th>\n",
       "      <th>Survived</th>\n",
       "      <th>Pclass</th>\n",
       "      <th>Sex</th>\n",
       "      <th>Age</th>\n",
       "      <th>SibSp</th>\n",
       "      <th>Parch</th>\n",
       "      <th>Fare</th>\n",
       "      <th>Embarked</th>\n",
       "    </tr>\n",
       "  </thead>\n",
       "  <tbody>\n",
       "    <tr>\n",
       "      <th>0</th>\n",
       "      <td>0</td>\n",
       "      <td>3</td>\n",
       "      <td>male</td>\n",
       "      <td>22.0</td>\n",
       "      <td>1</td>\n",
       "      <td>0</td>\n",
       "      <td>7.2500</td>\n",
       "      <td>S</td>\n",
       "    </tr>\n",
       "    <tr>\n",
       "      <th>1</th>\n",
       "      <td>1</td>\n",
       "      <td>1</td>\n",
       "      <td>female</td>\n",
       "      <td>38.0</td>\n",
       "      <td>1</td>\n",
       "      <td>0</td>\n",
       "      <td>71.2833</td>\n",
       "      <td>C</td>\n",
       "    </tr>\n",
       "    <tr>\n",
       "      <th>2</th>\n",
       "      <td>1</td>\n",
       "      <td>3</td>\n",
       "      <td>female</td>\n",
       "      <td>26.0</td>\n",
       "      <td>0</td>\n",
       "      <td>0</td>\n",
       "      <td>7.9250</td>\n",
       "      <td>S</td>\n",
       "    </tr>\n",
       "    <tr>\n",
       "      <th>3</th>\n",
       "      <td>1</td>\n",
       "      <td>1</td>\n",
       "      <td>female</td>\n",
       "      <td>35.0</td>\n",
       "      <td>1</td>\n",
       "      <td>0</td>\n",
       "      <td>53.1000</td>\n",
       "      <td>S</td>\n",
       "    </tr>\n",
       "    <tr>\n",
       "      <th>4</th>\n",
       "      <td>0</td>\n",
       "      <td>3</td>\n",
       "      <td>male</td>\n",
       "      <td>35.0</td>\n",
       "      <td>0</td>\n",
       "      <td>0</td>\n",
       "      <td>8.0500</td>\n",
       "      <td>S</td>\n",
       "    </tr>\n",
       "  </tbody>\n",
       "</table>\n",
       "</div>"
      ],
      "text/plain": [
       "   Survived  Pclass     Sex   Age  SibSp  Parch     Fare Embarked\n",
       "0         0       3    male  22.0      1      0   7.2500        S\n",
       "1         1       1  female  38.0      1      0  71.2833        C\n",
       "2         1       3  female  26.0      0      0   7.9250        S\n",
       "3         1       1  female  35.0      1      0  53.1000        S\n",
       "4         0       3    male  35.0      0      0   8.0500        S"
      ]
     },
     "execution_count": 5,
     "metadata": {},
     "output_type": "execute_result"
    }
   ],
   "source": [
    "passenger_df.head()"
   ]
  },
  {
   "cell_type": "markdown",
   "metadata": {},
   "source": [
    "Yolcuların cinsiyete göre dağılımları: Erkek yolcu sayısı: 577, Kadın yolcu sayısı: 314.\n",
    "Bu sayıları bulmada pandas'ın groupby() fonksiyonunu kullandım."
   ]
  },
  {
   "cell_type": "code",
   "execution_count": 7,
   "metadata": {
    "collapsed": false
   },
   "outputs": [
    {
     "name": "stdout",
     "output_type": "stream",
     "text": [
      "Number of male passengers: 577\n",
      "Number of female passengers: 314\n"
     ]
    }
   ],
   "source": [
    "print 'Number of male passengers:', len(passenger_df.groupby('Sex').groups['male'])\n",
    "print 'Number of female passengers:', len(passenger_df.groupby('Sex').groups['female'])"
   ]
  },
  {
   "cell_type": "markdown",
   "metadata": {},
   "source": [
    "Daha sonra kullanılmak üzere, erkek ve kadın yolcuları ayrı ayrı analize tabi tutabilmek amacıyla cinsiyete göre, male_passenger ve female_passenger adında iki ayrı veri çerçevesi (data frame) oluşturdum."
   ]
  },
  {
   "cell_type": "code",
   "execution_count": 8,
   "metadata": {
    "collapsed": true
   },
   "outputs": [],
   "source": [
    "#Creating male and female passengers' dataframes\n",
    "male_passenger = passenger_df[passenger_df['Sex']== 'male']\n",
    "female_passenger = passenger_df[passenger_df['Sex']== 'female']"
   ]
  },
  {
   "cell_type": "markdown",
   "metadata": {},
   "source": [
    "Erkek ve kadınların haricinde, yaşlarını 16 altı olarak kabul ettiğim çocuk yolcu(kid_passenger) veri çerçevesini oluşturdum."
   ]
  },
  {
   "cell_type": "code",
   "execution_count": 9,
   "metadata": {
    "collapsed": false
   },
   "outputs": [],
   "source": [
    "#Kid passengers' dataframe. I accepted under of 16 years old as kid.\n",
    "kid_passenger = passenger_df[passenger_df['Age']<16]"
   ]
  },
  {
   "cell_type": "markdown",
   "metadata": {},
   "source": [
    "Yetişkin erkek ve yetişkin kadın yolcuları belirlemek amacıyla, oluşturduğum çocuk yolcu(kid_passenger) veri çerçevesini ayrı ayrı erkek(male_passenger) ve kadın(female_passenger) yolcu veri çerçevelerinden ayırarak  öncelikle erkek(male_kid_passenger) ve kız çocuklarını(female_kid_passenger) ayrı ayrı belirledim."
   ]
  },
  {
   "cell_type": "code",
   "execution_count": 10,
   "metadata": {
    "collapsed": true
   },
   "outputs": [],
   "source": [
    "#I want to create adult male and female passengers' dataframe. Firstly I will detect male and female kids.\n",
    "male_kid_passenger = kid_passenger[kid_passenger['Sex']=='male']\n",
    "female_kid_passenger = kid_passenger[kid_passenger['Sex']=='female']"
   ]
  },
  {
   "cell_type": "markdown",
   "metadata": {},
   "source": [
    "Pandas .drop() fonksiyonu kullanımı. Erkek(male_kid_passenger) ve kız çocuklarının(female_kid_passenger) erkek ve kadın yolcu veri çerçevelerinden ayrılarak yetişkin erkek(adult_male_passenger) ve yetişkin kadın(adult_female_passenger) veri çerçevelerinin oluşturulması."
   ]
  },
  {
   "cell_type": "code",
   "execution_count": 11,
   "metadata": {
    "collapsed": true
   },
   "outputs": [],
   "source": [
    "#Creating adult male and female dataframes by dropping kid passengers\n",
    "adult_male_passenger = male_passenger.drop(male_kid_passenger.index[:])\n",
    "adult_female_passenger = female_passenger.drop(female_kid_passenger.index[:])"
   ]
  },
  {
   "cell_type": "markdown",
   "metadata": {},
   "source": [
    "Cinsiyet göre ve yetişkin/çocuk yolcu sayıları"
   ]
  },
  {
   "cell_type": "code",
   "execution_count": 12,
   "metadata": {
    "collapsed": false
   },
   "outputs": [
    {
     "name": "stdout",
     "output_type": "stream",
     "text": [
      "Number of all passengers: 891\n",
      "Number of male passengers: 577\n",
      "Number of female passengers: 314\n",
      "Number of adult male passengers: 537\n",
      "Number of adult female passengers: 271\n",
      "Number of kid passengers: 83\n"
     ]
    }
   ],
   "source": [
    "#Number of passengers according to sex and age\n",
    "print 'Number of all passengers:', len(passenger_df)\n",
    "print 'Number of male passengers:', len(male_passenger)\n",
    "print 'Number of female passengers:', len(female_passenger)\n",
    "print 'Number of adult male passengers:', len(adult_male_passenger)\n",
    "print 'Number of adult female passengers:', len(adult_female_passenger)\n",
    "print 'Number of kid passengers:', len(kid_passenger) #No need for number of male or female kid passengers."
   ]
  },
  {
   "cell_type": "markdown",
   "metadata": {},
   "source": [
    "Pandas .groupby() fonksiyonu kullanarak istenen yolcu sayılarını elde etmede alternatif kod kullanımı"
   ]
  },
  {
   "cell_type": "code",
   "execution_count": 13,
   "metadata": {
    "collapsed": false
   },
   "outputs": [
    {
     "name": "stdout",
     "output_type": "stream",
     "text": [
      "Number of male passengers: 577\n",
      "Number of female passengers: 314\n",
      "Number of kid passengers: 83\n"
     ]
    }
   ],
   "source": [
    "#There are always alternative ways, shortcuts for reaching findings.\n",
    "#Alternative codes for above findings (usage of Pandas.groupby, lambda functions):\n",
    "print 'Number of male passengers:', len(passenger_df.groupby('Sex').groups['male'])\n",
    "print 'Number of female passengers:', len(passenger_df.groupby('Sex').groups['female'])\n",
    "print 'Number of kid passengers:', passenger_df['Age'].apply(lambda x: x < 16).sum()"
   ]
  },
  {
   "cell_type": "markdown",
   "metadata": {},
   "source": [
    "Cinsiyete göre yolcuların dağılımı. Yuvarlak diyagram ile verinin görselleştirilmesi:"
   ]
  },
  {
   "cell_type": "code",
   "execution_count": 14,
   "metadata": {
    "collapsed": false
   },
   "outputs": [
    {
     "data": {
      "image/png": "[encoded data removed]",
      "text/plain": [
       "<matplotlib.figure.Figure at 0xab3b1c0c>"
      ]
     },
     "metadata": {},
     "output_type": "display_data"
    }
   ],
   "source": [
    "#Visualization of percentages of passengers by sex on pie chart\n",
    "x = [len(male_passenger),len(female_passenger)]\n",
    "label = ['Male','Female']\n",
    "plt.pie(x, labels=label, autopct='%1.01f%%')\n",
    "plt.title('Distribution of passengers by sex')\n",
    "plt.show()"
   ]
  },
  {
   "cell_type": "markdown",
   "metadata": {},
   "source": [
    "Alternatif bir yaş dağılımı bulgusu. Yeni bir fonksiyon tanımlayarak .apply() uygulamasıyla elde edilen farklı yaş gruplarına göre dağılım. Tanımladığım fonksiyona göre 0-15 yaş aralığını 'Child'(çocuk), 16-24 yaş aralığını 'Young'(genç), 24 yaş üstünü 'Adult'(Yetişkin) olarak adlandırdım. .value_counts() fonksiyonu ile bu yaş aralıklaraındaki yolcu sayılarını elde ettim."
   ]
  },
  {
   "cell_type": "code",
   "execution_count": 15,
   "metadata": {
    "collapsed": false
   },
   "outputs": [
    {
     "data": {
      "text/plain": [
       "Adult    614\n",
       "Young    194\n",
       "Child     83\n",
       "Name: Age, dtype: int64"
      ]
     },
     "execution_count": 15,
     "metadata": {},
     "output_type": "execute_result"
    }
   ],
   "source": [
    "#We can also diversify age groups by defining a function:\n",
    "def age_distribution(x):\n",
    "    if x>=0 and x <16:\n",
    "        return 'Child'\n",
    "    elif x>=16 and x<=24:\n",
    "        return 'Young'\n",
    "    else:\n",
    "        return 'Adult'\n",
    "    \n",
    "passenger_df['Age'].apply(age_distribution).value_counts()"
   ]
  },
  {
   "cell_type": "markdown",
   "metadata": {},
   "source": [
    "Farklı yaş aralıklarına göre yolcuların dağılımı. Yuvarlak diyagram ile verinin görselleştirilmesi."
   ]
  },
  {
   "cell_type": "code",
   "execution_count": 16,
   "metadata": {
    "collapsed": false
   },
   "outputs": [
    {
     "data": {
      "image/png": "[encoded data removed]",
      "text/plain": [
       "<matplotlib.figure.Figure at 0xab3b2dac>"
      ]
     },
     "metadata": {},
     "output_type": "display_data"
    }
   ],
   "source": [
    "#Visualization of percentages of passengers by age\n",
    "passenger_df['Age'].apply(age_distribution).value_counts().plot(kind='pie', autopct='%1.0f%%')\n",
    "plt.title('Distribution of passengers by age')\n",
    "plt.show()"
   ]
  },
  {
   "cell_type": "markdown",
   "metadata": {},
   "source": [
    ".mean() fonksiyonu ile yetişkin erkek(adult_male_passenger), yetişkin kadın(adult_female_passenger) ve çocuk yolcuların(kid_passenger) yaş ortalamaları."
   ]
  },
  {
   "cell_type": "code",
   "execution_count": 17,
   "metadata": {
    "collapsed": false
   },
   "outputs": [
    {
     "name": "stdout",
     "output_type": "stream",
     "text": [
      "Average age of adult male passengers: 33.1731234867\n",
      "Average age of adult female passengers: 32.0\n",
      "Average age of kid passengers: 6.36951807229\n"
     ]
    }
   ],
   "source": [
    "print 'Average age of adult male passengers:', adult_male_passenger['Age'].mean()\n",
    "print 'Average age of adult female passengers:', adult_female_passenger['Age'].mean()\n",
    "print 'Average age of kid passengers:', kid_passenger['Age'].mean()"
   ]
  },
  {
   "cell_type": "markdown",
   "metadata": {},
   "source": [
    "Sosyo-ekonomik bir gösterge olarak yolcuların yolcu sınıflarına(Pclass) göre sayıları."
   ]
  },
  {
   "cell_type": "code",
   "execution_count": 18,
   "metadata": {
    "collapsed": false
   },
   "outputs": [
    {
     "data": {
      "text/plain": [
       "3    491\n",
       "1    216\n",
       "2    184\n",
       "Name: Pclass, dtype: int64"
      ]
     },
     "execution_count": 18,
     "metadata": {},
     "output_type": "execute_result"
    }
   ],
   "source": [
    "#Number of passengers according to class\n",
    "#Pclass: A proxy for socio-economic status 1st = Upper 2nd = Middle, 3rd = Lower)\n",
    "passenger_df['Pclass'].value_counts()"
   ]
  },
  {
   "cell_type": "markdown",
   "metadata": {},
   "source": [
    "Yolcu sınıflarına göre yolcu sayıları. Yatay çubuk grafik ile verinin görselleştirilmesi:"
   ]
  },
  {
   "cell_type": "code",
   "execution_count": 19,
   "metadata": {
    "collapsed": false
   },
   "outputs": [
    {
     "data": {
      "image/png": "[encoded data removed]",
      "text/plain": [
       "<matplotlib.figure.Figure at 0xa9bc506c>"
      ]
     },
     "metadata": {},
     "output_type": "display_data"
    }
   ],
   "source": [
    "passenger_df['Pclass'].value_counts().plot(kind='barh', color='green', figsize=[16,4])\n",
    "plt.xlabel('Frequency')\n",
    "plt.ylabel('Passenger class')\n",
    "plt.show()"
   ]
  },
  {
   "cell_type": "markdown",
   "metadata": {},
   "source": [
    "Bu çalışmanın içeriğinde herhangi bir analize tabi tutmasam da her ayrı yolcu sınıfı için veri çerçevelerinin oluşturulması."
   ]
  },
  {
   "cell_type": "code",
   "execution_count": 20,
   "metadata": {
    "collapsed": false
   },
   "outputs": [],
   "source": [
    "#Creating dataframes by passenger class\n",
    "first_class_passenger = passenger_df[passenger_df['Pclass']==[1]]\n",
    "second_class_passenger = passenger_df[passenger_df['Pclass']==[2]]\n",
    "third_class_passenger = passenger_df[passenger_df['Pclass']==[3]]"
   ]
  },
  {
   "cell_type": "markdown",
   "metadata": {},
   "source": [
    "Yolcuların gemiye biniş limanı bilgisini içeren 'Embarked' sütununun .describe() fonksiyonu ile tanımlanması. Sonuca göre; yolcular 3 ayrı limandan gemiye binmişler, en fazla yolcunun-(644 yolcunun) biniş yaptığı liman 'S' ile tanımlanan Southampton limanı olmuştur. 891 yolcudan ikisinin biniş bilgisi yoktur. "
   ]
  },
  {
   "cell_type": "code",
   "execution_count": 21,
   "metadata": {
    "collapsed": false
   },
   "outputs": [
    {
     "data": {
      "text/plain": [
       "count     889\n",
       "unique      3\n",
       "top         S\n",
       "freq      644\n",
       "Name: Embarked, dtype: object"
      ]
     },
     "execution_count": 21,
     "metadata": {},
     "output_type": "execute_result"
    }
   ],
   "source": [
    "passenger_df['Embarked'].describe()"
   ]
  },
  {
   "cell_type": "markdown",
   "metadata": {},
   "source": [
    "'Embarked' sütununda eksik iki hücrenin, sütunda en fazla değer olan 'S' ile doldurulması."
   ]
  },
  {
   "cell_type": "code",
   "execution_count": 22,
   "metadata": {
    "collapsed": true
   },
   "outputs": [],
   "source": [
    "#Filling the two missing values in 'Embarked' with the most occurred value, which is \"S\"\n",
    "passenger_df['Embarked'] = passenger_df['Embarked'].fillna('S')"
   ]
  },
  {
   "cell_type": "markdown",
   "metadata": {},
   "source": [
    "Yolcuların gemiye biniş limanlarına göre sayılarının çubuk grafik ile görselleştirilmesi."
   ]
  },
  {
   "cell_type": "code",
   "execution_count": 23,
   "metadata": {
    "collapsed": false
   },
   "outputs": [
    {
     "data": {
      "image/png": "[encoded data removed]",
      "text/plain": [
       "<matplotlib.figure.Figure at 0xa9ac738c>"
      ]
     },
     "metadata": {},
     "output_type": "display_data"
    }
   ],
   "source": [
    "#Visualization of number of passengers by embarking ports \n",
    "passenger_df['Embarked'].value_counts().plot(kind='bar')\n",
    "plt.title('Embarking ports')\n",
    "plt.ylabel('Frequency')\n",
    "plt.xlabel('S=Southampton, C=Cherbourg, Q=Queenstown')\n",
    "plt.show()"
   ]
  },
  {
   "cell_type": "markdown",
   "metadata": {},
   "source": [
    "Hayatta kalma/kalmama durumunun analizi. Veri setinde yer alan 891 yolcunun 549'u hayatını kaybederken 342'si hayatta kalmıştır."
   ]
  },
  {
   "cell_type": "code",
   "execution_count": 24,
   "metadata": {
    "collapsed": false
   },
   "outputs": [
    {
     "data": {
      "text/plain": [
       "0    549\n",
       "1    342\n",
       "Name: Survived, dtype: int64"
      ]
     },
     "execution_count": 24,
     "metadata": {},
     "output_type": "execute_result"
    }
   ],
   "source": [
    "#ANALYZING OF SURVIVINGS\n",
    "#Number of surviveds and not-surviveds\n",
    "passenger_df['Survived'].value_counts()"
   ]
  },
  {
   "cell_type": "markdown",
   "metadata": {},
   "source": [
    "Hayatını kaybeden(0) - hayatta kalan(1) yolcu sayılarının çubuk grafik ile gösterimi."
   ]
  },
  {
   "cell_type": "code",
   "execution_count": 25,
   "metadata": {
    "collapsed": false
   },
   "outputs": [
    {
     "data": {
      "image/png": "[encoded data removed]",
      "text/plain": [
       "<matplotlib.figure.Figure at 0xa9a7d16c>"
      ]
     },
     "metadata": {},
     "output_type": "display_data"
    }
   ],
   "source": [
    "passenger_df['Survived'].value_counts().plot(kind='bar', title='Surviving ')\n",
    "plt.xlabel('0= Not-survived  1= Survived')\n",
    "plt.ylabel('Frequency')\n",
    "plt.show()"
   ]
  },
  {
   "cell_type": "markdown",
   "metadata": {},
   "source": [
    "Cinsiyete göre hayatını kaybeden(0) ve kurtulan yolcuların(1) sayıları."
   ]
  },
  {
   "cell_type": "code",
   "execution_count": 26,
   "metadata": {
    "collapsed": false
   },
   "outputs": [
    {
     "data": {
      "text/plain": [
       "Sex     Survived\n",
       "female  1           233\n",
       "        0            81\n",
       "male    0           468\n",
       "        1           109\n",
       "Name: Survived, dtype: int64"
      ]
     },
     "execution_count": 26,
     "metadata": {},
     "output_type": "execute_result"
    }
   ],
   "source": [
    "#Number of survivings by sex\n",
    "passenger_df.groupby('Sex')['Survived'].value_counts()"
   ]
  },
  {
   "cell_type": "markdown",
   "metadata": {},
   "source": [
    "Cinsiyete göre hayatını kaybeden(0) ve kurtulan yolcuların(1) sayılarının görselleştirilmesi."
   ]
  },
  {
   "cell_type": "code",
   "execution_count": 27,
   "metadata": {
    "collapsed": false
   },
   "outputs": [
    {
     "data": {
      "image/png": "[encoded data removed]",
      "text/plain": [
       "<matplotlib.figure.Figure at 0xa9a202cc>"
      ]
     },
     "metadata": {},
     "output_type": "display_data"
    }
   ],
   "source": [
    "#Visualization of survivings by sex\n",
    "passenger_df.groupby('Sex')['Survived'].value_counts().plot(kind='bar', stacked=True, colormap='winter')\n",
    "plt.show()"
   ]
  },
  {
   "cell_type": "markdown",
   "metadata": {},
   "source": [
    "Yukarıdaki görselleştirmenin; iki sütuna('Sex', 'Survived') .groupby() fonksiyonu ile size() ve unstack() fonksiyonlarının uygulanması sonucunda hayatta kalma('Survived') değişekeninin tek çubuk üzerinde \n",
    "\"stacked=True\" ile daha iyi bir görsele dönüştürülmesi."
   ]
  },
  {
   "cell_type": "code",
   "execution_count": 28,
   "metadata": {
    "collapsed": false
   },
   "outputs": [
    {
     "data": {
      "image/png": "[encoded data removed]",
      "text/plain": [
       "<matplotlib.figure.Figure at 0xa97cf06c>"
      ]
     },
     "metadata": {},
     "output_type": "display_data"
    }
   ],
   "source": [
    "#Better visualization of survivings by sex\n",
    "sex_survived = passenger_df.groupby(['Sex', 'Survived'])\n",
    "sex_survived.size().unstack().plot(kind='bar', stacked=True, colormap='winter')\n",
    "plt.ylabel('Frequency')\n",
    "plt.title('Survivings by sex')\n",
    "plt.show()"
   ]
  },
  {
   "cell_type": "markdown",
   "metadata": {},
   "source": [
    "Hayatta kalan yetişkin kadın ve yetişkin erkek yolcuların oranı. Buna göre yetişkin kadın yolcuların \n",
    "%75'i hayatta kalırken, yetişken erkek yolcuların %84'ü hayatını kaybetmiştir."
   ]
  },
  {
   "cell_type": "code",
   "execution_count": 29,
   "metadata": {
    "collapsed": false
   },
   "outputs": [
    {
     "name": "stdout",
     "output_type": "stream",
     "text": [
      "Mean of survived adult female passengers: 0.756457564576\n",
      "Mean of survived adult male passengers: 0.163873370577\n"
     ]
    }
   ],
   "source": [
    "print 'Mean of survived adult female passengers:', adult_female_passenger['Survived'].mean()\n",
    "print 'Mean of survived adult male passengers:', adult_male_passenger['Survived'].mean()"
   ]
  },
  {
   "cell_type": "markdown",
   "metadata": {},
   "source": [
    "Yolcu sınıflarına göre hayatta kalan/hayatını kaybeden yolcu sayılarını bulmada\n",
    "size() ve unstack() fonksiyonlarının kullanımı.\n",
    "Öncelikle .groupby() ile 'Pclass' ve 'Survived' sütunlarını grupluyoruz."
   ]
  },
  {
   "cell_type": "code",
   "execution_count": 30,
   "metadata": {
    "collapsed": false
   },
   "outputs": [],
   "source": [
    "#Usage of size(),unstack() while examining survivings by passenger class\n",
    "class_survived = passenger_df.groupby(['Pclass', 'Survived'])"
   ]
  },
  {
   "cell_type": "markdown",
   "metadata": {},
   "source": [
    "size() ile yolcu sınıflarına göre hayatını kaybeden(0) ve hayatta kalanların(1) sayıları."
   ]
  },
  {
   "cell_type": "code",
   "execution_count": 31,
   "metadata": {
    "collapsed": false
   },
   "outputs": [
    {
     "data": {
      "text/plain": [
       "Pclass  Survived\n",
       "1       0            80\n",
       "        1           136\n",
       "2       0            97\n",
       "        1            87\n",
       "3       0           372\n",
       "        1           119\n",
       "dtype: int64"
      ]
     },
     "execution_count": 31,
     "metadata": {},
     "output_type": "execute_result"
    }
   ],
   "source": [
    "#size() - to count number of rows in each grouping.\n",
    "class_survived.size()"
   ]
  },
  {
   "cell_type": "markdown",
   "metadata": {},
   "source": [
    "unstack() ile elde edilen sonucu daha okunabilir bir formata dönüştürüyoruz."
   ]
  },
  {
   "cell_type": "code",
   "execution_count": 32,
   "metadata": {
    "collapsed": false
   },
   "outputs": [
    {
     "data": {
      "text/html": [
       "<div>\n",
       "<table border=\"1\" class=\"dataframe\">\n",
       "  <thead>\n",
       "    <tr style=\"text-align: right;\">\n",
       "      <th>Survived</th>\n",
       "      <th>0</th>\n",
       "      <th>1</th>\n",
       "    </tr>\n",
       "    <tr>\n",
       "      <th>Pclass</th>\n",
       "      <th></th>\n",
       "      <th></th>\n",
       "    </tr>\n",
       "  </thead>\n",
       "  <tbody>\n",
       "    <tr>\n",
       "      <th>1</th>\n",
       "      <td>80</td>\n",
       "      <td>136</td>\n",
       "    </tr>\n",
       "    <tr>\n",
       "      <th>2</th>\n",
       "      <td>97</td>\n",
       "      <td>87</td>\n",
       "    </tr>\n",
       "    <tr>\n",
       "      <th>3</th>\n",
       "      <td>372</td>\n",
       "      <td>119</td>\n",
       "    </tr>\n",
       "  </tbody>\n",
       "</table>\n",
       "</div>"
      ],
      "text/plain": [
       "Survived    0    1\n",
       "Pclass            \n",
       "1          80  136\n",
       "2          97   87\n",
       "3         372  119"
      ]
     },
     "execution_count": 32,
     "metadata": {},
     "output_type": "execute_result"
    }
   ],
   "source": [
    "#unstack() - to convert results into a more readable format.\n",
    "class_survived.size().unstack()"
   ]
  },
  {
   "cell_type": "markdown",
   "metadata": {},
   "source": [
    "Yolcu sınıflarına göre hayatını kaybeden(0) ve hayatta kalan(1) yolcu sayılarının görselleştirilmesi."
   ]
  },
  {
   "cell_type": "code",
   "execution_count": 33,
   "metadata": {
    "collapsed": false
   },
   "outputs": [
    {
     "data": {
      "image/png": "[encoded data removed]",
      "text/plain": [
       "<matplotlib.figure.Figure at 0xa97d310c>"
      ]
     },
     "metadata": {},
     "output_type": "display_data"
    }
   ],
   "source": [
    "#Visualization of survivings by passenger class\n",
    "class_survived.size().unstack().plot(kind='bar', stacked=True, colormap='autumn')\n",
    "plt.xlabel('1st = Upper,   2nd = Middle,   3rd = Lower')\n",
    "plt.ylabel('Frequency')\n",
    "plt.title('Survivings by passenger class')\n",
    "plt.show()"
   ]
  },
  {
   "cell_type": "markdown",
   "metadata": {},
   "source": [
    "Yolcu sınıflarına göre hayatını kaybeden ve hayatta kalan erkek yolcu sayıları tablosu."
   ]
  },
  {
   "cell_type": "code",
   "execution_count": 34,
   "metadata": {
    "collapsed": false
   },
   "outputs": [
    {
     "name": "stdout",
     "output_type": "stream",
     "text": [
      "Surviving numbers of male passengers by passenger class:"
     ]
    },
    {
     "data": {
      "text/html": [
       "<div>\n",
       "<table border=\"1\" class=\"dataframe\">\n",
       "  <thead>\n",
       "    <tr style=\"text-align: right;\">\n",
       "      <th>Survived</th>\n",
       "      <th>0</th>\n",
       "      <th>1</th>\n",
       "    </tr>\n",
       "    <tr>\n",
       "      <th>Pclass</th>\n",
       "      <th></th>\n",
       "      <th></th>\n",
       "    </tr>\n",
       "  </thead>\n",
       "  <tbody>\n",
       "    <tr>\n",
       "      <th>1</th>\n",
       "      <td>77</td>\n",
       "      <td>45</td>\n",
       "    </tr>\n",
       "    <tr>\n",
       "      <th>2</th>\n",
       "      <td>91</td>\n",
       "      <td>17</td>\n",
       "    </tr>\n",
       "    <tr>\n",
       "      <th>3</th>\n",
       "      <td>300</td>\n",
       "      <td>47</td>\n",
       "    </tr>\n",
       "  </tbody>\n",
       "</table>\n",
       "</div>"
      ],
      "text/plain": [
       "Survived    0   1\n",
       "Pclass           \n",
       "1          77  45\n",
       "2          91  17\n",
       "3         300  47"
      ]
     },
     "execution_count": 34,
     "metadata": {},
     "output_type": "execute_result"
    },
    {
     "name": "stdout",
     "output_type": "stream",
     "text": [
      "\n"
     ]
    }
   ],
   "source": [
    "#Numbers of survived/not survived passengers by sex and passenger class\n",
    "print 'Surviving numbers of male passengers by passenger class:',\n",
    "male_passenger.groupby(['Pclass','Survived']).size().unstack()"
   ]
  },
  {
   "cell_type": "markdown",
   "metadata": {},
   "source": [
    "Yolcu sınıflarına göre hayatını kaybeden ve hayatta kalan kadın yolcu sayıları tablosu."
   ]
  },
  {
   "cell_type": "code",
   "execution_count": 35,
   "metadata": {
    "collapsed": false
   },
   "outputs": [
    {
     "name": "stdout",
     "output_type": "stream",
     "text": [
      "Surviving numbers of female passengers by passenger class:"
     ]
    },
    {
     "data": {
      "text/html": [
       "<div>\n",
       "<table border=\"1\" class=\"dataframe\">\n",
       "  <thead>\n",
       "    <tr style=\"text-align: right;\">\n",
       "      <th>Survived</th>\n",
       "      <th>0</th>\n",
       "      <th>1</th>\n",
       "    </tr>\n",
       "    <tr>\n",
       "      <th>Pclass</th>\n",
       "      <th></th>\n",
       "      <th></th>\n",
       "    </tr>\n",
       "  </thead>\n",
       "  <tbody>\n",
       "    <tr>\n",
       "      <th>1</th>\n",
       "      <td>3</td>\n",
       "      <td>91</td>\n",
       "    </tr>\n",
       "    <tr>\n",
       "      <th>2</th>\n",
       "      <td>6</td>\n",
       "      <td>70</td>\n",
       "    </tr>\n",
       "    <tr>\n",
       "      <th>3</th>\n",
       "      <td>72</td>\n",
       "      <td>72</td>\n",
       "    </tr>\n",
       "  </tbody>\n",
       "</table>\n",
       "</div>"
      ],
      "text/plain": [
       "Survived   0   1\n",
       "Pclass          \n",
       "1          3  91\n",
       "2          6  70\n",
       "3         72  72"
      ]
     },
     "execution_count": 35,
     "metadata": {},
     "output_type": "execute_result"
    },
    {
     "name": "stdout",
     "output_type": "stream",
     "text": [
      "\n"
     ]
    }
   ],
   "source": [
    "print 'Surviving numbers of female passengers by passenger class:',\n",
    "female_passenger.groupby(['Pclass','Survived']).size().unstack()"
   ]
  },
  {
   "cell_type": "markdown",
   "metadata": {},
   "source": [
    "Yolcu sınıflarına göre hayatını kaybeden/hayatta kalan erkek ve kadın yolcu sayılarının görselleştirilmesi."
   ]
  },
  {
   "cell_type": "code",
   "execution_count": 36,
   "metadata": {
    "collapsed": false
   },
   "outputs": [
    {
     "data": {
      "image/png": "[encoded data removed]",
      "text/plain": [
       "<matplotlib.figure.Figure at 0xa9813bec>"
      ]
     },
     "metadata": {},
     "output_type": "display_data"
    }
   ],
   "source": [
    "#Visualization of male and female survivings by passenger class\n",
    "fig, axes = plt.subplots(nrows=2, ncols=1)\n",
    "male_passenger.groupby(['Pclass','Survived']).size().unstack().plot(kind='bar', title='Surviving of male passengers by class',\n",
    "                                                                    stacked=True, colormap='summer', ax=axes[0])\n",
    "female_passenger.groupby(['Pclass','Survived']).size().unstack().plot(kind='bar', title='Surviving of female passengers by class',\n",
    "                                                                      stacked=True, colormap='summer', ax=axes[1])\n",
    "plt.tight_layout()\n",
    "plt.show()"
   ]
  },
  {
   "cell_type": "markdown",
   "metadata": {},
   "source": [
    "Yalnız yolcuları(alone_passenger) gösteren veri çerçevesinin oluşturulması.\n",
    "'Yalnız yolcu'dan kasıt, gemide kardeş/eş ve ebeveyn/çocuğu olmayan yolculardır. Buna göre 'SibSp' ve 'Parch' değerlerinin her ikisi de sıfır olan yolcular, oluşturulan \"alone_passenger\" veri çerçevesine dahildir. \n",
    ".head() ile, oluşturulan veri çerçevesinin ilk 7 satırının görünümü."
   ]
  },
  {
   "cell_type": "code",
   "execution_count": 37,
   "metadata": {
    "collapsed": false
   },
   "outputs": [
    {
     "data": {
      "text/html": [
       "<div>\n",
       "<table border=\"1\" class=\"dataframe\">\n",
       "  <thead>\n",
       "    <tr style=\"text-align: right;\">\n",
       "      <th></th>\n",
       "      <th>Survived</th>\n",
       "      <th>Pclass</th>\n",
       "      <th>Sex</th>\n",
       "      <th>Age</th>\n",
       "      <th>SibSp</th>\n",
       "      <th>Parch</th>\n",
       "      <th>Fare</th>\n",
       "      <th>Embarked</th>\n",
       "    </tr>\n",
       "  </thead>\n",
       "  <tbody>\n",
       "    <tr>\n",
       "      <th>2</th>\n",
       "      <td>1</td>\n",
       "      <td>3</td>\n",
       "      <td>female</td>\n",
       "      <td>26.0</td>\n",
       "      <td>0</td>\n",
       "      <td>0</td>\n",
       "      <td>7.9250</td>\n",
       "      <td>S</td>\n",
       "    </tr>\n",
       "    <tr>\n",
       "      <th>4</th>\n",
       "      <td>0</td>\n",
       "      <td>3</td>\n",
       "      <td>male</td>\n",
       "      <td>35.0</td>\n",
       "      <td>0</td>\n",
       "      <td>0</td>\n",
       "      <td>8.0500</td>\n",
       "      <td>S</td>\n",
       "    </tr>\n",
       "    <tr>\n",
       "      <th>5</th>\n",
       "      <td>0</td>\n",
       "      <td>3</td>\n",
       "      <td>male</td>\n",
       "      <td>NaN</td>\n",
       "      <td>0</td>\n",
       "      <td>0</td>\n",
       "      <td>8.4583</td>\n",
       "      <td>Q</td>\n",
       "    </tr>\n",
       "    <tr>\n",
       "      <th>6</th>\n",
       "      <td>0</td>\n",
       "      <td>1</td>\n",
       "      <td>male</td>\n",
       "      <td>54.0</td>\n",
       "      <td>0</td>\n",
       "      <td>0</td>\n",
       "      <td>51.8625</td>\n",
       "      <td>S</td>\n",
       "    </tr>\n",
       "    <tr>\n",
       "      <th>11</th>\n",
       "      <td>1</td>\n",
       "      <td>1</td>\n",
       "      <td>female</td>\n",
       "      <td>58.0</td>\n",
       "      <td>0</td>\n",
       "      <td>0</td>\n",
       "      <td>26.5500</td>\n",
       "      <td>S</td>\n",
       "    </tr>\n",
       "    <tr>\n",
       "      <th>12</th>\n",
       "      <td>0</td>\n",
       "      <td>3</td>\n",
       "      <td>male</td>\n",
       "      <td>20.0</td>\n",
       "      <td>0</td>\n",
       "      <td>0</td>\n",
       "      <td>8.0500</td>\n",
       "      <td>S</td>\n",
       "    </tr>\n",
       "    <tr>\n",
       "      <th>14</th>\n",
       "      <td>0</td>\n",
       "      <td>3</td>\n",
       "      <td>female</td>\n",
       "      <td>14.0</td>\n",
       "      <td>0</td>\n",
       "      <td>0</td>\n",
       "      <td>7.8542</td>\n",
       "      <td>S</td>\n",
       "    </tr>\n",
       "  </tbody>\n",
       "</table>\n",
       "</div>"
      ],
      "text/plain": [
       "    Survived  Pclass     Sex   Age  SibSp  Parch     Fare Embarked\n",
       "2          1       3  female  26.0      0      0   7.9250        S\n",
       "4          0       3    male  35.0      0      0   8.0500        S\n",
       "5          0       3    male   NaN      0      0   8.4583        Q\n",
       "6          0       1    male  54.0      0      0  51.8625        S\n",
       "11         1       1  female  58.0      0      0  26.5500        S\n",
       "12         0       3    male  20.0      0      0   8.0500        S\n",
       "14         0       3  female  14.0      0      0   7.8542        S"
      ]
     },
     "execution_count": 37,
     "metadata": {},
     "output_type": "execute_result"
    }
   ],
   "source": [
    "#Findings of alone passengers (without siblings/spouses and parents/children aboard the Titanic)\n",
    "without_sibsp_passenger = passenger_df[passenger_df['SibSp']==[0]]\n",
    "alone_passenger = without_sibsp_passenger[without_sibsp_passenger['Parch']==[0]]\n",
    "#Checking first 7 rows of alone_passenger\n",
    "alone_passenger.head(7)"
   ]
  },
  {
   "cell_type": "markdown",
   "metadata": {},
   "source": [
    "Ailesiyle birlikte yolculuk eden yolcuları(family_passenger) gösteren veri çerçevesinin oluşturulması.\n",
    "Bu veri çerçevesi, veri setimizden(passenger_df) yalnız yolcuların(alone_passenger) çıkarılmasıyla elde edilmiştir.\n",
    "Buna göre 'SibSp' veya 'Parch' değerlerinden herhangi biri sıfırdan büyük bir değere sahip yolcular bu veri çerçevesine(family_passenger) dahildir. .tail() ile, oluşturulan veri çerçevesinin son 6 satırının görünümü."
   ]
  },
  {
   "cell_type": "code",
   "execution_count": 38,
   "metadata": {
    "collapsed": false
   },
   "outputs": [
    {
     "data": {
      "text/html": [
       "<div>\n",
       "<table border=\"1\" class=\"dataframe\">\n",
       "  <thead>\n",
       "    <tr style=\"text-align: right;\">\n",
       "      <th></th>\n",
       "      <th>Survived</th>\n",
       "      <th>Pclass</th>\n",
       "      <th>Sex</th>\n",
       "      <th>Age</th>\n",
       "      <th>SibSp</th>\n",
       "      <th>Parch</th>\n",
       "      <th>Fare</th>\n",
       "      <th>Embarked</th>\n",
       "    </tr>\n",
       "  </thead>\n",
       "  <tbody>\n",
       "    <tr>\n",
       "      <th>871</th>\n",
       "      <td>1</td>\n",
       "      <td>1</td>\n",
       "      <td>female</td>\n",
       "      <td>47.0</td>\n",
       "      <td>1</td>\n",
       "      <td>1</td>\n",
       "      <td>52.5542</td>\n",
       "      <td>S</td>\n",
       "    </tr>\n",
       "    <tr>\n",
       "      <th>874</th>\n",
       "      <td>1</td>\n",
       "      <td>2</td>\n",
       "      <td>female</td>\n",
       "      <td>28.0</td>\n",
       "      <td>1</td>\n",
       "      <td>0</td>\n",
       "      <td>24.0000</td>\n",
       "      <td>C</td>\n",
       "    </tr>\n",
       "    <tr>\n",
       "      <th>879</th>\n",
       "      <td>1</td>\n",
       "      <td>1</td>\n",
       "      <td>female</td>\n",
       "      <td>56.0</td>\n",
       "      <td>0</td>\n",
       "      <td>1</td>\n",
       "      <td>83.1583</td>\n",
       "      <td>C</td>\n",
       "    </tr>\n",
       "    <tr>\n",
       "      <th>880</th>\n",
       "      <td>1</td>\n",
       "      <td>2</td>\n",
       "      <td>female</td>\n",
       "      <td>25.0</td>\n",
       "      <td>0</td>\n",
       "      <td>1</td>\n",
       "      <td>26.0000</td>\n",
       "      <td>S</td>\n",
       "    </tr>\n",
       "    <tr>\n",
       "      <th>885</th>\n",
       "      <td>0</td>\n",
       "      <td>3</td>\n",
       "      <td>female</td>\n",
       "      <td>39.0</td>\n",
       "      <td>0</td>\n",
       "      <td>5</td>\n",
       "      <td>29.1250</td>\n",
       "      <td>Q</td>\n",
       "    </tr>\n",
       "    <tr>\n",
       "      <th>888</th>\n",
       "      <td>0</td>\n",
       "      <td>3</td>\n",
       "      <td>female</td>\n",
       "      <td>NaN</td>\n",
       "      <td>1</td>\n",
       "      <td>2</td>\n",
       "      <td>23.4500</td>\n",
       "      <td>S</td>\n",
       "    </tr>\n",
       "  </tbody>\n",
       "</table>\n",
       "</div>"
      ],
      "text/plain": [
       "     Survived  Pclass     Sex   Age  SibSp  Parch     Fare Embarked\n",
       "871         1       1  female  47.0      1      1  52.5542        S\n",
       "874         1       2  female  28.0      1      0  24.0000        C\n",
       "879         1       1  female  56.0      0      1  83.1583        C\n",
       "880         1       2  female  25.0      0      1  26.0000        S\n",
       "885         0       3  female  39.0      0      5  29.1250        Q\n",
       "888         0       3  female   NaN      1      2  23.4500        S"
      ]
     },
     "execution_count": 38,
     "metadata": {},
     "output_type": "execute_result"
    }
   ],
   "source": [
    "#Findings of passengers with family (with siblings/spouses or parents/children aboard the Titanic)\n",
    "family_passenger = passenger_df.drop(alone_passenger.index[:])\n",
    "#Checking last 6 rows of family_passenger\n",
    "family_passenger.tail(6)"
   ]
  },
  {
   "cell_type": "markdown",
   "metadata": {},
   "source": [
    "Cinsiyete göre; yalnız seyahat eden,\n",
    "                ailesiyle birlikte seyahat eden yolcuların hayatta kalma oranları.\n",
    "                \n",
    "Yolcu sınıfına göre; yalnız seyahat eden,\n",
    "                     ailesiyle birlikte seyahat eden yolcuların hayatta kalma oranları."
   ]
  },
  {
   "cell_type": "code",
   "execution_count": 39,
   "metadata": {
    "collapsed": false
   },
   "outputs": [
    {
     "name": "stdout",
     "output_type": "stream",
     "text": [
      "Mean of survived alone passengers: Sex\n",
      "female    0.785714\n",
      "male      0.155718\n",
      "Name: Survived, dtype: float64\n",
      "Mean of survived passengers with family: Sex\n",
      "female    0.712766\n",
      "male      0.271084\n",
      "Name: Survived, dtype: float64\n",
      "\n",
      "\n",
      "Mean of survived alone passengers: Pclass\n",
      "1    0.532110\n",
      "2    0.346154\n",
      "3    0.212963\n",
      "Name: Survived, dtype: float64\n",
      "Mean of survived passengers with family: Pclass\n",
      "1    0.728972\n",
      "2    0.637500\n",
      "3    0.299401\n",
      "Name: Survived, dtype: float64\n"
     ]
    }
   ],
   "source": [
    "#Mean of survived alone passengers and passengers with family by sex\n",
    "print 'Mean of survived alone passengers:', alone_passenger.groupby('Sex')['Survived'].mean()\n",
    "print 'Mean of survived passengers with family:', family_passenger.groupby('Sex')['Survived'].mean()\n",
    "print ''\n",
    "print ''\n",
    "#Mean of survived alone passengers and passengers with family by passenger class\n",
    "print 'Mean of survived alone passengers:', alone_passenger.groupby('Pclass')['Survived'].mean()\n",
    "print 'Mean of survived passengers with family:', family_passenger.groupby('Pclass')['Survived'].mean()"
   ]
  },
  {
   "cell_type": "markdown",
   "metadata": {},
   "source": [
    "Ödenen bilet ücretlerine göre hayatta kalma oranlarının bulunması.\n",
    "Bilet ücretleri (0'dan 512'ye) büyük farklarla çeşitlilik göstermektedir. Bu nedenle, bilet ücreti değerleri eşit aralıklara bölünerek hayatta kalma oranları bulunmuştur. Öncelikle ücret sütununda yer alan boş hücreler ücret('Fare') ortalama değeri ile doldurulmuştur."
   ]
  },
  {
   "cell_type": "code",
   "execution_count": 40,
   "metadata": {
    "collapsed": true
   },
   "outputs": [],
   "source": [
    "#Fares varies widely. Therefore I used pandas.qcut for discretizing fares into equal buckets.\n",
    "#Firstly, filling missing values of 'Fare'\n",
    "passenger_df['Fare'].fillna(passenger_df['Fare'].dropna().median(), inplace=True)"
   ]
  },
  {
   "cell_type": "markdown",
   "metadata": {},
   "source": [
    ".qcut() fonksiyonu ile bilet ücret('Fare') değerleri yolcu sayılarına göre dört eşit gruba ayrılmıştır. Buna göre, oluşan ücret bandları('FareBand') \"0-7.91\", \"7.91-14.454\", \"14.454-31\", \"31-512.329\" olmuştur. "
   ]
  },
  {
   "cell_type": "code",
   "execution_count": 41,
   "metadata": {
    "collapsed": false
   },
   "outputs": [
    {
     "data": {
      "text/plain": [
       "(7.91, 14.454]    224\n",
       "[0, 7.91]         223\n",
       "(14.454, 31]      222\n",
       "(31, 512.329]     222\n",
       "Name: FareBand, dtype: int64"
      ]
     },
     "execution_count": 41,
     "metadata": {},
     "output_type": "execute_result"
    }
   ],
   "source": [
    "#Discretizing fares of passengers in 4 equal buckets with .qcut\n",
    "passenger_df['FareBand'] = pd.qcut(passenger_df['Fare'], 4)\n",
    "passenger_df['FareBand'].value_counts().sort_values(ascending=False)"
   ]
  },
  {
   "cell_type": "markdown",
   "metadata": {},
   "source": [
    "Oluşturulan ücret bandlarına göre hayatta kalma oranları. Bu sonuca göre yolcular arasında ödenen bilet ücretleri arttıkça hayatta kalma oranları da artmıştır. "
   ]
  },
  {
   "cell_type": "code",
   "execution_count": 42,
   "metadata": {
    "collapsed": false
   },
   "outputs": [
    {
     "data": {
      "text/html": [
       "<div>\n",
       "<table border=\"1\" class=\"dataframe\">\n",
       "  <thead>\n",
       "    <tr style=\"text-align: right;\">\n",
       "      <th></th>\n",
       "      <th>FareBand</th>\n",
       "      <th>Survived</th>\n",
       "    </tr>\n",
       "  </thead>\n",
       "  <tbody>\n",
       "    <tr>\n",
       "      <th>0</th>\n",
       "      <td>[0, 7.91]</td>\n",
       "      <td>0.197309</td>\n",
       "    </tr>\n",
       "    <tr>\n",
       "      <th>1</th>\n",
       "      <td>(7.91, 14.454]</td>\n",
       "      <td>0.303571</td>\n",
       "    </tr>\n",
       "    <tr>\n",
       "      <th>2</th>\n",
       "      <td>(14.454, 31]</td>\n",
       "      <td>0.454955</td>\n",
       "    </tr>\n",
       "    <tr>\n",
       "      <th>3</th>\n",
       "      <td>(31, 512.329]</td>\n",
       "      <td>0.581081</td>\n",
       "    </tr>\n",
       "  </tbody>\n",
       "</table>\n",
       "</div>"
      ],
      "text/plain": [
       "         FareBand  Survived\n",
       "0       [0, 7.91]  0.197309\n",
       "1  (7.91, 14.454]  0.303571\n",
       "2    (14.454, 31]  0.454955\n",
       "3   (31, 512.329]  0.581081"
      ]
     },
     "execution_count": 42,
     "metadata": {},
     "output_type": "execute_result"
    }
   ],
   "source": [
    "#Mean of survived passengers by fares\n",
    "passenger_df[['FareBand', 'Survived']].groupby(['FareBand'], as_index=False).mean().sort_values(by='FareBand',\n",
    "                                                                                                ascending=True)"
   ]
  },
  {
   "cell_type": "code",
   "execution_count": null,
   "metadata": {
    "collapsed": true
   },
   "outputs": [],
   "source": []
  }
 ],
 "metadata": {
  "kernelspec": {
   "display_name": "Python 2",
   "language": "python",
   "name": "python2"
  },
  "language_info": {
   "codemirror_mode": {
    "name": "ipython",
    "version": 2
   },
   "file_extension": ".py",
   "mimetype": "text/x-python",
   "name": "python",
   "nbconvert_exporter": "python",
   "pygments_lexer": "ipython2",
   "version": "2.7.13"
  }
 },
 "nbformat": 4,
 "nbformat_minor": 0
}
